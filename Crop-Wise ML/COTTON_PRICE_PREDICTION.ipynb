{
 "cells": [
  {
   "cell_type": "code",
   "execution_count": null,
   "id": "aed7fa91-f019-4a5e-bdb6-44510569cc50",
   "metadata": {},
   "outputs": [],
   "source": [
    "import pandas as pd\n",
    "import numpy as np\n",
    "import matplotlib.pyplot as plt\n",
    "from sklearn.model_selection import train_test_split\n",
    "from sklearn.ensemble import RandomForestRegressor\n",
    "from sklearn.metrics import mean_absolute_error\n",
    "from sklearn.preprocessing import LabelEncoder"
   ]
  },
  {
   "cell_type": "code",
   "execution_count": null,
   "id": "5c5b6342-628c-42dc-b9ed-38eb1619e269",
   "metadata": {},
   "outputs": [],
   "source": [
    "# Load the dataset with the specified date format\n",
    "file_path = 'COTTON.csv'\n",
    "data = pd.read_csv(file_path, parse_dates=['date'], dayfirst=True)\n",
    "\n",
    "# Drop the unwanted columns\n",
    "data = data.drop(columns=['arrivalquantity', 'cropid', 'cropname'])"
   ]
  },
  {
   "cell_type": "code",
   "execution_count": null,
   "id": "902058b8-8f98-4b9d-9aaa-28c61c0289d9",
   "metadata": {},
   "outputs": [],
   "source": [
    "data.info()"
   ]
  },
  {
   "cell_type": "code",
   "execution_count": null,
   "id": "9f754fd9-c199-411f-8dbd-6ad32793e43c",
   "metadata": {},
   "outputs": [],
   "source": [
    "data.head()"
   ]
  },
  {
   "cell_type": "code",
   "execution_count": null,
   "id": "0cea57dd-6bd7-446a-ab56-3729487500ed",
   "metadata": {},
   "outputs": [],
   "source": [
    "# Convert the date column to datetime with the correct format\n",
    "data['date'] = pd.to_datetime(data['date'], format='%d/%m/%Y')"
   ]
  },
  {
   "cell_type": "code",
   "execution_count": null,
   "id": "a9f08695-d2dc-40cc-a969-90d21d76b2be",
   "metadata": {},
   "outputs": [],
   "source": [
    "# Extract additional features from the date\n",
    "data['year'] = data['date'].dt.year\n",
    "data['month'] = data['date'].dt.month\n",
    "data['day'] = data['date'].dt.day"
   ]
  },
  {
   "cell_type": "code",
   "execution_count": null,
   "id": "b110a1d6-ec32-4a69-99d6-17c1bb508f1e",
   "metadata": {},
   "outputs": [],
   "source": [
    "# Create lag features\n",
    "data = data.sort_values(by='date')\n",
    "for lag in range(1, 8):  # Using past 7 days to predict the next day\n",
    "    data[f'lag_{lag}'] = data['modalprice'].shift(lag)"
   ]
  },
  {
   "cell_type": "code",
   "execution_count": null,
   "id": "9d182778-da2a-49c0-a501-a2028e9a32a1",
   "metadata": {},
   "outputs": [],
   "source": [
    "# Drop rows with missing values created by lag features\n",
    "data = data.dropna()"
   ]
  },
  {
   "cell_type": "code",
   "execution_count": null,
   "id": "43b1f8bd-8b9a-42a1-91d0-140dfe93c325",
   "metadata": {},
   "outputs": [],
   "source": [
    "# Encode categorical variables\n",
    "label_encoder = LabelEncoder()\n",
    "data['mandiname'] = label_encoder.fit_transform(data['mandiname'])"
   ]
  },
  {
   "cell_type": "code",
   "execution_count": null,
   "id": "5f42b32b-d99f-412f-8411-523b14889837",
   "metadata": {},
   "outputs": [],
   "source": [
    "# Define features and target\n",
    "features = ['mandiname', 'year', 'month', 'day'] + [f'lag_{i}' for i in range(1, 8)]\n",
    "target = 'modalprice'"
   ]
  },
  {
   "cell_type": "code",
   "execution_count": null,
   "id": "c611dabc-c2e0-4e0e-8711-d5705d1477c3",
   "metadata": {},
   "outputs": [],
   "source": [
    "X = data[features]\n",
    "y = data[target]"
   ]
  },
  {
   "cell_type": "code",
   "execution_count": null,
   "id": "04043035-10f0-4774-9215-a84a252d1dea",
   "metadata": {},
   "outputs": [],
   "source": [
    "# Split the data into training and testing sets\n",
    "X_train, X_test, y_train, y_test = train_test_split(X, y, test_size=0.2, random_state=42)"
   ]
  },
  {
   "cell_type": "code",
   "execution_count": null,
   "id": "49713305-2260-46b8-8f3a-28749d36cc3f",
   "metadata": {},
   "outputs": [],
   "source": [
    "# Train the model\n",
    "model = RandomForestRegressor(n_estimators=100, random_state=42)\n",
    "model.fit(X_train, y_train)"
   ]
  },
  {
   "cell_type": "code",
   "execution_count": null,
   "id": "469eedb0-1c18-4c44-bbf3-b293e42c327b",
   "metadata": {},
   "outputs": [],
   "source": [
    "# Make predictions on the test set\n",
    "y_pred = model.predict(X_test)"
   ]
  },
  {
   "cell_type": "code",
   "execution_count": null,
   "id": "15481f86-f9b4-4a01-a662-475891bd032f",
   "metadata": {},
   "outputs": [],
   "source": [
    "# Evaluate the model\n",
    "mae = mean_absolute_error(y_test, y_pred)\n",
    "print(f'Mean Absolute Error: {mae}')"
   ]
  },
  {
   "cell_type": "code",
   "execution_count": null,
   "id": "8b0e3ce4-ca4e-4fa0-9650-089d074a6f80",
   "metadata": {},
   "outputs": [],
   "source": [
    "# Predict future prices for the next 10 days\n",
    "last_known = data[features].iloc[-1].values.reshape(1, -1)\n",
    "future_predictions = []\n",
    "\n",
    "for i in range(10):\n",
    "    next_pred = model.predict(last_known)\n",
    "    future_predictions.append(next_pred[0])\n",
    "    \n",
    "    # Update the last_known array with the new prediction and shift the lags\n",
    "    last_known = np.roll(last_known, -1)\n",
    "    last_known[0, -1] = next_pred"
   ]
  },
  {
   "cell_type": "code",
   "execution_count": null,
   "id": "a0223b2b-e18d-4a2f-afd0-7c3c5be36eb4",
   "metadata": {},
   "outputs": [],
   "source": [
    "# Visualize the future predictions\n",
    "future_dates = pd.date_range(start=data['date'].max() + pd.Timedelta(days=1), periods=10, freq='D')\n",
    "future_df = pd.DataFrame({'date': future_dates, 'predicted_modalprice': future_predictions})\n",
    "\n",
    "plt.figure(figsize=(14, 6))\n",
    "plt.plot(future_df['date'], future_df['predicted_modalprice'], marker='o', linestyle='--', color='b')\n",
    "\n",
    "# Add labels to each data point\n",
    "for x, y in zip(future_df['date'], future_df['predicted_modalprice']):\n",
    "    plt.text(x, y, f'{y:.2f}', ha='right', va='bottom', fontsize=14)\n",
    "\n",
    "plt.title('Predicted COTTON Modal Price for the Next 10 Days')\n",
    "plt.xlabel('Date')\n",
    "plt.ylabel('Predicted Modal Price')\n",
    "plt.xticks(rotation=0)\n",
    "plt.grid(True)\n",
    "plt.tight_layout()  # Adjust layout to prevent overlapping labels\n",
    "plt.show()"
   ]
  }
 ],
 "metadata": {
  "kernelspec": {
   "display_name": "Python 3 (ipykernel)",
   "language": "python",
   "name": "python3"
  },
  "language_info": {
   "codemirror_mode": {
    "name": "ipython",
    "version": 3
   },
   "file_extension": ".py",
   "mimetype": "text/x-python",
   "name": "python",
   "nbconvert_exporter": "python",
   "pygments_lexer": "ipython3",
   "version": "3.11.7"
  }
 },
 "nbformat": 4,
 "nbformat_minor": 5
}
