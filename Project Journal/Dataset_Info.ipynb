{
 "cells": [
  {
   "cell_type": "code",
   "execution_count": 1,
   "id": "fe3082d4-7f21-46c3-993b-3b519c5a646b",
   "metadata": {},
   "outputs": [
    {
     "name": "stdout",
     "output_type": "stream",
     "text": [
      " cropid  mandiid  count\n",
      "      7      227    986\n",
      "     13      359    959\n",
      "      7      981    934\n",
      "      1     1122    926\n",
      "      1     1129    902\n",
      "      1     1142    902\n",
      "      7     1331    877\n",
      "      1     1235    863\n",
      "     13      167    859\n",
      "      1     1212    859\n"
     ]
    }
   ],
   "source": [
    "import pandas as pd\n",
    "\n",
    "# Load the dataset\n",
    "file_path = 'Total_Crops.csv'\n",
    "df = pd.read_csv(file_path)\n",
    "\n",
    "\n",
    "# Ensure the dataset contains 'cropid' and 'mandiid' columns\n",
    "if 'cropid' in df.columns and 'mandiid' in df.columns:\n",
    "    # Get the count of entries for each combination of 'cropid' and 'mandiid'\n",
    "    combination_counts = df.groupby(['cropid', 'mandiid']).size().reset_index(name='count')\n",
    "\n",
    "    # Sort the combinations by count in descending order\n",
    "    combination_counts_sorted = combination_counts.sort_values(by='count', ascending=False)\n",
    "\n",
    "    # Get the top 10 unique entries based on the counts\n",
    "    top_10_unique_combinations = combination_counts_sorted.head(20)\n",
    "\n",
    "    # Print the top 10 unique combinations without indexes\n",
    "    print(top_10_unique_combinations.to_string(index=False))\n",
    "else:\n",
    "    print(\"The dataset does not contain the required 'cropid' and 'mandiid' columns.\")\n"
   ]
  }
 ],
 "metadata": {
  "kernelspec": {
   "display_name": "Python 3 (ipykernel)",
   "language": "python",
   "name": "python3"
  },
  "language_info": {
   "codemirror_mode": {
    "name": "ipython",
    "version": 3
   },
   "file_extension": ".py",
   "mimetype": "text/x-python",
   "name": "python",
   "nbconvert_exporter": "python",
   "pygments_lexer": "ipython3",
   "version": "3.11.7"
  }
 },
 "nbformat": 4,
 "nbformat_minor": 5
}
